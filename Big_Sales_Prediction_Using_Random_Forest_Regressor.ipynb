{
  "cells": [
    {
      "cell_type": "markdown",
      "metadata": {
        "colab_type": "text",
        "id": "view-in-github"
      },
      "source": [
        "<a href=\"https://colab.research.google.com/github/pickachu17/Data-ScienceAIML/blob/main/Big_Sales_Prediction_Using_Random_Forest_Regressor.ipynb\" target=\"_parent\"><img src=\"https://colab.research.google.com/assets/colab-badge.svg\" alt=\"Open In Colab\"/></a>"
      ]
    },
    {
      "cell_type": "code",
      "execution_count": null,
      "metadata": {
        "id": "_Syy-vUfe_UJ"
      },
      "outputs": [],
      "source": [
        "import pandas as pd"
      ]
    },
    {
      "cell_type": "code",
      "execution_count": null,
      "metadata": {
        "id": "zdGoCXLYf7Gx"
      },
      "outputs": [],
      "source": [
        "import numpy as np"
      ]
    },
    {
      "cell_type": "code",
      "execution_count": null,
      "metadata": {
        "id": "L5i4vrGcgAsB"
      },
      "outputs": [],
      "source": [
        "df = pd.read_csv(r'https://github.com/YBI-Foundation/Dataset/raw/main/Big%20Sales%20Data.csv')"
      ]
    },
    {
      "cell_type": "code",
      "execution_count": null,
      "metadata": {
        "id": "wJJoetNkgROQ"
      },
      "outputs": [],
      "source": [
        "# df = pd.read_csv(r'C:\\users\\YBI foundation\\Dekstop\\Big Sales Data.csv')"
      ]
    },
    {
      "cell_type": "code",
      "execution_count": null,
      "metadata": {
        "id": "9W_ijjx0hE5x"
      },
      "outputs": [],
      "source": [
        "# df = pd.read_csv(r'/content/Big Sales Data.csv')"
      ]
    },
    {
      "cell_type": "code",
      "execution_count": null,
      "metadata": {
        "colab": {
          "base_uri": "https://localhost:8080/",
          "height": 357
        },
        "id": "2mPAmV3UhitE",
        "outputId": "ebd11c04-184e-4ca0-82db-3fbdac3d923f"
      },
      "outputs": [],
      "source": [
        "df.head()"
      ]
    },
    {
      "cell_type": "code",
      "execution_count": null,
      "metadata": {
        "colab": {
          "base_uri": "https://localhost:8080/"
        },
        "id": "kKzfLaUYhuwI",
        "outputId": "f79fc7a5-bdac-4a73-ed26-5530e21ba95f"
      },
      "outputs": [],
      "source": [
        "df.info()"
      ]
    },
    {
      "cell_type": "code",
      "execution_count": null,
      "metadata": {
        "colab": {
          "base_uri": "https://localhost:8080/"
        },
        "id": "Ti-FMj18h6Bw",
        "outputId": "f40165c6-a9cf-43a7-bd16-57339905e9c8"
      },
      "outputs": [],
      "source": [
        "df.columns"
      ]
    },
    {
      "cell_type": "code",
      "execution_count": null,
      "metadata": {
        "colab": {
          "base_uri": "https://localhost:8080/",
          "height": 300
        },
        "id": "7VVRFHJciBwY",
        "outputId": "86251330-502d-4254-ead7-0d47164a9d6e"
      },
      "outputs": [],
      "source": [
        "df.describe()"
      ]
    },
    {
      "cell_type": "code",
      "execution_count": null,
      "metadata": {
        "id": "innXsN0wiKYo"
      },
      "outputs": [],
      "source": [
        "df['Item_Weight'].fillna(df.groupby(['Item_Type'])['Item_Weight'].transform('mean'), inplace= True)"
      ]
    },
    {
      "cell_type": "code",
      "execution_count": null,
      "metadata": {
        "colab": {
          "base_uri": "https://localhost:8080/"
        },
        "id": "qHp6ok_xjaEH",
        "outputId": "e9184120-4155-41cb-ec54-1a73f5c4b971"
      },
      "outputs": [],
      "source": [
        "df.info()"
      ]
    },
    {
      "cell_type": "code",
      "execution_count": null,
      "metadata": {
        "colab": {
          "base_uri": "https://localhost:8080/",
          "height": 300
        },
        "id": "oJUrmJt3jfSB",
        "outputId": "39285b40-5c98-446b-8e7b-5b8cc65e07e4"
      },
      "outputs": [],
      "source": [
        "df.describe()"
      ]
    },
    {
      "cell_type": "code",
      "execution_count": null,
      "metadata": {
        "colab": {
          "base_uri": "https://localhost:8080/",
          "height": 920
        },
        "id": "Pb__yRYyjnfh",
        "outputId": "c7adc8a8-e329-40bf-dd41-1d61cf92d79d"
      },
      "outputs": [],
      "source": [
        "import seaborn as sns\n",
        "sns.pairplot(df)"
      ]
    },
    {
      "cell_type": "code",
      "execution_count": null,
      "metadata": {
        "colab": {
          "base_uri": "https://localhost:8080/"
        },
        "id": "KAw4XIV0kDxA",
        "outputId": "c1e0c64a-b8fc-46c8-8fb9-67ddd8b3b3c9"
      },
      "outputs": [],
      "source": [
        "df[['Item_Identifier']].value_counts()"
      ]
    },
    {
      "cell_type": "code",
      "execution_count": null,
      "metadata": {
        "colab": {
          "base_uri": "https://localhost:8080/"
        },
        "id": "QY6DzBQMkdqY",
        "outputId": "b7a3e2c7-25cc-4cb1-ad66-e2a069ab9d13"
      },
      "outputs": [],
      "source": [
        "df[['Item_Fat_Content']].value_counts()"
      ]
    },
    {
      "cell_type": "code",
      "execution_count": null,
      "metadata": {
        "id": "X2f6Qn56kppA"
      },
      "outputs": [],
      "source": [
        "df.replace({'Item_Fat_Content':{'LF':'Low Fat','reg':'Regular','low fat':'Low Fat'}},inplace= True)"
      ]
    },
    {
      "cell_type": "code",
      "execution_count": null,
      "metadata": {
        "colab": {
          "base_uri": "https://localhost:8080/"
        },
        "id": "nWjsPvhbl-_y",
        "outputId": "ec719b4f-c0a6-405a-f714-b1f1f148910f"
      },
      "outputs": [],
      "source": [
        "df[['Item_Fat_Content']].value_counts()"
      ]
    },
    {
      "cell_type": "code",
      "execution_count": null,
      "metadata": {
        "id": "LfZxwHVNmJaw"
      },
      "outputs": [],
      "source": [
        "df.replace({'Item_Fat_Content':{'Low Fat': 0,'Regular':1}},inplace= True)"
      ]
    },
    {
      "cell_type": "code",
      "execution_count": null,
      "metadata": {
        "colab": {
          "base_uri": "https://localhost:8080/"
        },
        "id": "LFKcMPzHmsHq",
        "outputId": "32a2c856-3926-4621-8149-78b91b64a324"
      },
      "outputs": [],
      "source": [
        "df[['Item_Type']].value_counts()"
      ]
    },
    {
      "cell_type": "code",
      "execution_count": null,
      "metadata": {
        "id": "4dbIyd20m0gp"
      },
      "outputs": [],
      "source": [
        "df.replace({'Item_Type':{'Fruits and Vegetables':0,'Snack Foods':0,'Household':1,\n",
        "                         'Frozen Foods' : 0,'Dairy' : 0,'Baking Goods' : 0,\n",
        "                         'Canned' : 0,'Health and Hygiene' : 1,\n",
        "                         'Meat' : 0,'Soft Drinks' : 0,'Breads' : 0,'Hard Drinks' : 0,\n",
        "                         'Others' : 2,'Starchy Foods' : 0,'Breakfast' : 0,'Seafood' : 0\n",
        "                         }},inplace= True)"
      ]
    },
    {
      "cell_type": "code",
      "execution_count": null,
      "metadata": {
        "colab": {
          "base_uri": "https://localhost:8080/"
        },
        "id": "jMHDxXn8qFOC",
        "outputId": "21daf66e-0055-49da-e3c0-f55508a5b2e9"
      },
      "outputs": [],
      "source": [
        "df[['Item_Type']].value_counts()"
      ]
    },
    {
      "cell_type": "code",
      "execution_count": null,
      "metadata": {
        "colab": {
          "base_uri": "https://localhost:8080/"
        },
        "id": "3GmrS5ocqLcZ",
        "outputId": "4208db7d-266a-4580-964f-f564da7adc2a"
      },
      "outputs": [],
      "source": [
        "df[['Outlet_Identifier']].value_counts()"
      ]
    },
    {
      "cell_type": "code",
      "execution_count": null,
      "metadata": {
        "id": "SyNayhJFqTCB"
      },
      "outputs": [],
      "source": [
        "df. replace({'Outlet_Identifier':{'OUT027':0,'OUT013':1,\n",
        "                                  'OUT049' : 2,'OUT046' : 3,'OUT035' : 4,\n",
        "                                  'OUT045' : 5,'OUT018' : 6,\n",
        "                                  'OUT017' : 7,'OUT010' : 8,'OUT019' : 9,\n",
        "                                  }},inplace= True)"
      ]
    },
    {
      "cell_type": "code",
      "execution_count": null,
      "metadata": {
        "colab": {
          "base_uri": "https://localhost:8080/"
        },
        "id": "P2rmBG3AsIb7",
        "outputId": "8cbeb269-034e-47b7-a1f6-462643c89759"
      },
      "outputs": [],
      "source": [
        "df[['Outlet_Identifier']].value_counts()"
      ]
    },
    {
      "cell_type": "code",
      "execution_count": null,
      "metadata": {
        "colab": {
          "base_uri": "https://localhost:8080/"
        },
        "id": "YbjTCph0sVAB",
        "outputId": "894b00f3-ae21-4929-baf1-0e61f3ed6bc4"
      },
      "outputs": [],
      "source": [
        "df[['Outlet_Size']].value_counts()"
      ]
    },
    {
      "cell_type": "code",
      "execution_count": null,
      "metadata": {
        "id": "BU3j6g-g9yGT"
      },
      "outputs": [],
      "source": [
        "df.replace({'Outlet_Size': {'Small': 0,'Medium': 1,'High': 2}},inplace= True)"
      ]
    },
    {
      "cell_type": "code",
      "execution_count": null,
      "metadata": {
        "colab": {
          "base_uri": "https://localhost:8080/"
        },
        "id": "PbSQTFfA-VFO",
        "outputId": "9db24776-14af-41fd-9b30-305b5bf81d47"
      },
      "outputs": [],
      "source": [
        "df[['Outlet_Size']].value_counts()"
      ]
    },
    {
      "cell_type": "code",
      "execution_count": null,
      "metadata": {
        "colab": {
          "base_uri": "https://localhost:8080/"
        },
        "id": "WcSwDVmYse9a",
        "outputId": "e24cc049-c29f-48dc-9cd2-b0dae7a66e7f"
      },
      "outputs": [],
      "source": [
        "df[['Outlet_Location_Type']].value_counts()"
      ]
    },
    {
      "cell_type": "code",
      "execution_count": null,
      "metadata": {
        "id": "6lIAB5McsnRa"
      },
      "outputs": [],
      "source": [
        "df.replace({'Outlet_Location_Type' :{'Tier 1': 0,'Tier 2': 1,'Tier 3': 2}},inplace= True)\n"
      ]
    },
    {
      "cell_type": "code",
      "execution_count": null,
      "metadata": {
        "colab": {
          "base_uri": "https://localhost:8080/"
        },
        "id": "E0oeAsb7tohz",
        "outputId": "7214113a-47be-41ce-ba1f-c7858f28c32a"
      },
      "outputs": [],
      "source": [
        "df[['Outlet_Location_Type']].value_counts()"
      ]
    },
    {
      "cell_type": "code",
      "execution_count": null,
      "metadata": {
        "colab": {
          "base_uri": "https://localhost:8080/"
        },
        "id": "GDQrGoT_ttUJ",
        "outputId": "86133990-85a3-4a87-a0c9-437c65db015b"
      },
      "outputs": [],
      "source": [
        "df[['Outlet_Type']].value_counts()"
      ]
    },
    {
      "cell_type": "code",
      "execution_count": null,
      "metadata": {
        "id": "7vwMYe61t3P6"
      },
      "outputs": [],
      "source": [
        "df.replace({'Outlet_Type':{'Grocery Store' : 0,'Supermarket Type1':1,'Supermarket Type2':2,'Supermarket Type3':3}},inplace= True)"
      ]
    },
    {
      "cell_type": "code",
      "execution_count": null,
      "metadata": {
        "colab": {
          "base_uri": "https://localhost:8080/"
        },
        "id": "r5VakiO7ux8d",
        "outputId": "bdbee599-e42c-4cfd-8de4-1322e7890c4e"
      },
      "outputs": [],
      "source": [
        "df[['Outlet_Type']].value_counts()"
      ]
    },
    {
      "cell_type": "code",
      "execution_count": null,
      "metadata": {
        "colab": {
          "base_uri": "https://localhost:8080/",
          "height": 270
        },
        "id": "JzyoLi3Vu1ri",
        "outputId": "2309bbc6-bc83-45fe-a1de-19683b7c37e7"
      },
      "outputs": [],
      "source": [
        "df.head()"
      ]
    },
    {
      "cell_type": "code",
      "execution_count": null,
      "metadata": {
        "colab": {
          "base_uri": "https://localhost:8080/"
        },
        "id": "XlNkuGqLu8TS",
        "outputId": "cd615b76-81a6-4e45-9c46-b84a2650d7a0"
      },
      "outputs": [],
      "source": [
        "df.info()"
      ]
    },
    {
      "cell_type": "code",
      "execution_count": null,
      "metadata": {
        "id": "YA_XVkrpu99a"
      },
      "outputs": [],
      "source": [
        "y = df['Item_Outlet_Sales']"
      ]
    },
    {
      "cell_type": "code",
      "execution_count": null,
      "metadata": {
        "colab": {
          "base_uri": "https://localhost:8080/"
        },
        "id": "6yz4oow9vT7C",
        "outputId": "2a09a9ad-c0dd-49b0-cc7f-9ac82bef2e68"
      },
      "outputs": [],
      "source": [
        "y.shape"
      ]
    },
    {
      "cell_type": "code",
      "execution_count": null,
      "metadata": {
        "colab": {
          "base_uri": "https://localhost:8080/"
        },
        "id": "MZoIFGehvbHa",
        "outputId": "087fd8d2-4e08-41c3-fdda-557ec9bff1cd"
      },
      "outputs": [],
      "source": [
        "y"
      ]
    },
    {
      "cell_type": "code",
      "execution_count": null,
      "metadata": {
        "id": "ZKJ2sI91veza"
      },
      "outputs": [],
      "source": [
        "X = df[['Item_Weight','Item_Fat_Content','Item_Visibility',\n",
        "        'Item_Type','Item_MRP','Outlet_Identifier',\n",
        "        'Outlet_Establishment_Year','Outlet_Size','Outlet_Location_Type',\n",
        "        'Outlet_Type']]"
      ]
    },
    {
      "cell_type": "code",
      "execution_count": null,
      "metadata": {
        "id": "ROuM6EsOxf07"
      },
      "outputs": [],
      "source": [
        "X = df.drop(['Item_Identifier','Item_Outlet_Sales'],axis=1)"
      ]
    },
    {
      "cell_type": "code",
      "execution_count": null,
      "metadata": {
        "colab": {
          "base_uri": "https://localhost:8080/"
        },
        "id": "zk70R21byE8k",
        "outputId": "66ce6509-9898-4cd8-b245-677a692441a8"
      },
      "outputs": [],
      "source": [
        "X.shape"
      ]
    },
    {
      "cell_type": "code",
      "execution_count": null,
      "metadata": {
        "colab": {
          "base_uri": "https://localhost:8080/",
          "height": 424
        },
        "id": "oIDDqpLuyHeb",
        "outputId": "8b4b647d-5a02-4b54-85c7-223b0ffc82a9"
      },
      "outputs": [],
      "source": [
        "X"
      ]
    },
    {
      "cell_type": "code",
      "execution_count": null,
      "metadata": {
        "id": "bvIbdbZ0yKd7"
      },
      "outputs": [],
      "source": [
        "from sklearn.preprocessing import StandardScaler"
      ]
    },
    {
      "cell_type": "code",
      "execution_count": null,
      "metadata": {
        "id": "wEiOiJvp1dV-"
      },
      "outputs": [],
      "source": [
        "sc = StandardScaler()"
      ]
    },
    {
      "cell_type": "code",
      "execution_count": null,
      "metadata": {
        "id": "z2HGKN661iJV"
      },
      "outputs": [],
      "source": [
        "X_std = df[['Item_Weight','Item_Visibility','Item_MRP','Outlet_Establishment_Year']]"
      ]
    },
    {
      "cell_type": "code",
      "execution_count": null,
      "metadata": {
        "id": "Snj3DSaD1__u"
      },
      "outputs": [],
      "source": [
        "X_std = sc.fit_transform(X_std)"
      ]
    },
    {
      "cell_type": "code",
      "execution_count": null,
      "metadata": {
        "colab": {
          "base_uri": "https://localhost:8080/"
        },
        "id": "UKYJy-D93YcX",
        "outputId": "e47e6924-6c20-4d97-d838-1cf3a7ea7200"
      },
      "outputs": [],
      "source": [
        "X_std"
      ]
    },
    {
      "cell_type": "code",
      "execution_count": null,
      "metadata": {
        "id": "5_cQ4iPj3ckW"
      },
      "outputs": [],
      "source": [
        "X[['Item_Weight','Item_Visibility','Item_MRP','Outlet_Establishment_Year']] = pd.DataFrame(X_std , columns=[['Item_Weight','Item_Visibility','Item_MRP','Outlet_Establishment_Year']])"
      ]
    },
    {
      "cell_type": "code",
      "execution_count": null,
      "metadata": {
        "colab": {
          "base_uri": "https://localhost:8080/",
          "height": 424
        },
        "id": "JyclzChw4Z3o",
        "outputId": "5869476f-65eb-4ae6-b095-3e5100cf2cce"
      },
      "outputs": [],
      "source": [
        "X"
      ]
    },
    {
      "cell_type": "code",
      "execution_count": null,
      "metadata": {
        "id": "DenMfBbr4dse"
      },
      "outputs": [],
      "source": [
        "from sklearn.model_selection import train_test_split"
      ]
    },
    {
      "cell_type": "code",
      "execution_count": null,
      "metadata": {
        "id": "sUgDnJIn4v1V"
      },
      "outputs": [],
      "source": [
        "X_train,X_test,y_train,y_test = train_test_split(X,y, test_size= 0.1,random_state=232529)"
      ]
    },
    {
      "cell_type": "code",
      "execution_count": null,
      "metadata": {
        "colab": {
          "base_uri": "https://localhost:8080/"
        },
        "id": "QUtIqnbX5Nd1",
        "outputId": "0bdbef44-41e5-4322-a64c-30c794dc9b16"
      },
      "outputs": [],
      "source": [
        "X_train.shape, X_test.shape, y_train.shape, y_test.shape"
      ]
    },
    {
      "cell_type": "code",
      "execution_count": null,
      "metadata": {
        "id": "-dthjMAk5hoW"
      },
      "outputs": [],
      "source": [
        "from sklearn.ensemble import RandomForestRegressor"
      ]
    },
    {
      "cell_type": "code",
      "execution_count": null,
      "metadata": {
        "id": "_waICb3Y58MO"
      },
      "outputs": [],
      "source": [
        "rfr = RandomForestRegressor(random_state=232529)\n"
      ]
    },
    {
      "cell_type": "code",
      "execution_count": null,
      "metadata": {
        "colab": {
          "base_uri": "https://localhost:8080/"
        },
        "id": "zWZJUdZk6PG0",
        "outputId": "743f2122-3723-480b-ef93-2d227ebda9ce"
      },
      "outputs": [],
      "source": [
        "rfr.fit(X_train, y_train)"
      ]
    },
    {
      "cell_type": "code",
      "execution_count": null,
      "metadata": {
        "id": "IuCFU3hH6ZAw"
      },
      "outputs": [],
      "source": [
        "y_pred = rfr.predict(X_test)"
      ]
    },
    {
      "cell_type": "code",
      "execution_count": null,
      "metadata": {
        "colab": {
          "base_uri": "https://localhost:8080/"
        },
        "id": "2Vl_V5nJ-zy3",
        "outputId": "45ce4553-39d9-4c01-98f3-311f109dfbd7"
      },
      "outputs": [],
      "source": [
        "y_pred.shape"
      ]
    },
    {
      "cell_type": "code",
      "execution_count": null,
      "metadata": {
        "colab": {
          "base_uri": "https://localhost:8080/"
        },
        "id": "17-pK8FV-4tW",
        "outputId": "fd71b52e-b088-4dfb-c07a-06199e2ff6b5"
      },
      "outputs": [],
      "source": [
        "y_pred"
      ]
    },
    {
      "cell_type": "code",
      "execution_count": null,
      "metadata": {
        "id": "2g1lFbD9-7tl"
      },
      "outputs": [],
      "source": [
        "from sklearn.metrics import mean_squared_error,mean_absolute_error,r2_score"
      ]
    },
    {
      "cell_type": "code",
      "execution_count": null,
      "metadata": {
        "colab": {
          "base_uri": "https://localhost:8080/"
        },
        "id": "eO0E0B81_Seu",
        "outputId": "cb7a8415-a174-459a-c8d2-3747224bcc79"
      },
      "outputs": [],
      "source": [
        "mean_squared_error(y_test,y_pred)"
      ]
    },
    {
      "cell_type": "code",
      "execution_count": null,
      "metadata": {
        "colab": {
          "base_uri": "https://localhost:8080/"
        },
        "id": "Hm_Z9ozJ_dD_",
        "outputId": "0f2ee90d-26e3-452e-f2dc-b7f1f1ba00c7"
      },
      "outputs": [],
      "source": [
        "mean_absolute_error(y_test,y_pred)"
      ]
    },
    {
      "cell_type": "code",
      "execution_count": null,
      "metadata": {
        "colab": {
          "base_uri": "https://localhost:8080/"
        },
        "id": "4s3X7z0u_rRf",
        "outputId": "f9ed5e21-db3d-458f-fa00-feb7ef45f4c9"
      },
      "outputs": [],
      "source": [
        "r2_score(y_test,y_pred)"
      ]
    },
    {
      "cell_type": "code",
      "execution_count": null,
      "metadata": {
        "colab": {
          "base_uri": "https://localhost:8080/",
          "height": 295
        },
        "id": "jIYK8F_f_up3",
        "outputId": "6b224192-b048-414c-c1c1-ed1df5a7af17"
      },
      "outputs": [],
      "source": [
        "import matplotlib.pyplot as plt\n",
        "plt.scatter(y_test,y_pred)\n",
        "plt.xlabel(\"Actual Prices\")\n",
        "plt.ylabel(\"Predicted Prices\")\n",
        "plt.title(\"Actual Prices vs Predicted Prices\")\n",
        "plt.show()"
      ]
    },
    {
      "cell_type": "code",
      "execution_count": null,
      "metadata": {
        "id": "pMQsCfNHAmg3"
      },
      "outputs": [],
      "source": []
    }
  ],
  "metadata": {
    "colab": {
      "authorship_tag": "ABX9TyNtJjFusXOr2VblUa4QAKnD",
      "collapsed_sections": [],
      "include_colab_link": true,
      "name": "Big Sales Prediction Using Random Forest Regressor",
      "provenance": []
    },
    "kernelspec": {
      "display_name": "Python 3",
      "name": "python3"
    },
    "language_info": {
      "codemirror_mode": {
        "name": "ipython",
        "version": 3
      },
      "file_extension": ".py",
      "mimetype": "text/x-python",
      "name": "python",
      "nbconvert_exporter": "python",
      "pygments_lexer": "ipython3",
      "version": "3.11.3"
    }
  },
  "nbformat": 4,
  "nbformat_minor": 0
}
